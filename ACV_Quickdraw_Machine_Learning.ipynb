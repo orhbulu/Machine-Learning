{
  "nbformat": 4,
  "nbformat_minor": 0,
  "metadata": {
    "colab": {
      "name": "ACV - Quickdraw - Machine Learning.ipynb",
      "provenance": [],
      "machine_shape": "hm",
      "include_colab_link": true
    },
    "kernelspec": {
      "name": "python3",
      "display_name": "Python 3"
    },
    "accelerator": "GPU"
  },
  "cells": [
    {
      "cell_type": "markdown",
      "metadata": {
        "id": "view-in-github",
        "colab_type": "text"
      },
      "source": [
        "<a href=\"https://colab.research.google.com/github/orhbulu/repo/blob/master/ACV_Quickdraw_Machine_Learning.ipynb\" target=\"_parent\"><img src=\"https://colab.research.google.com/assets/colab-badge.svg\" alt=\"Open In Colab\"/></a>"
      ]
    },
    {
      "cell_type": "markdown",
      "metadata": {
        "id": "dI7JCKdlR_yY",
        "colab_type": "text"
      },
      "source": [
        "# Quickdraw\n",
        "\n",
        "load data  - https://quickdraw.withgoogle.com/data\n",
        "preprocessing data  \n",
        "pipeline  \n",
        "make a model  \n",
        "train   \n",
        "evaluate   \n"
      ]
    },
    {
      "cell_type": "markdown",
      "metadata": {
        "id": "PUn-RtiAWWq5",
        "colab_type": "text"
      },
      "source": [
        "## Prepare data for network"
      ]
    },
    {
      "cell_type": "code",
      "metadata": {
        "id": "1qLIRRYJuEnr",
        "colab_type": "code",
        "outputId": "78f7b2ae-aebb-4aa6-b7c0-c477c41eaab8",
        "colab": {
          "base_uri": "https://localhost:8080/",
          "height": 329
        }
      },
      "source": [
        "!nvidia-smi"
      ],
      "execution_count": 0,
      "outputs": [
        {
          "output_type": "stream",
          "text": [
            "Wed Apr 15 23:11:40 2020       \n",
            "+-----------------------------------------------------------------------------+\n",
            "| NVIDIA-SMI 440.64.00    Driver Version: 418.67       CUDA Version: 10.1     |\n",
            "|-------------------------------+----------------------+----------------------+\n",
            "| GPU  Name        Persistence-M| Bus-Id        Disp.A | Volatile Uncorr. ECC |\n",
            "| Fan  Temp  Perf  Pwr:Usage/Cap|         Memory-Usage | GPU-Util  Compute M. |\n",
            "|===============================+======================+======================|\n",
            "|   0  Tesla P100-PCIE...  Off  | 00000000:00:04.0 Off |                    0 |\n",
            "| N/A   36C    P0    25W / 250W |      0MiB / 16280MiB |      0%      Default |\n",
            "+-------------------------------+----------------------+----------------------+\n",
            "                                                                               \n",
            "+-----------------------------------------------------------------------------+\n",
            "| Processes:                                                       GPU Memory |\n",
            "|  GPU       PID   Type   Process name                             Usage      |\n",
            "|=============================================================================|\n",
            "|  No running processes found                                                 |\n",
            "+-----------------------------------------------------------------------------+\n"
          ],
          "name": "stdout"
        }
      ]
    },
    {
      "cell_type": "code",
      "metadata": {
        "id": "LpIWP261r1zU",
        "colab_type": "code",
        "outputId": "d3886964-7be7-406b-afb7-af060b70b65a",
        "colab": {
          "base_uri": "https://localhost:8080/",
          "height": 35
        }
      },
      "source": [
        "!wget -qq https://www.dropbox.com/s/gdlb8dnjzcly51o/quickdraw.zip\n",
        "  \n",
        "!unzip -qq quickdraw.zip\n",
        "\n",
        "!rm -r __MACOSX\n",
        "!rm quickdraw.zip\n",
        "\n",
        "!ls"
      ],
      "execution_count": 0,
      "outputs": [
        {
          "output_type": "stream",
          "text": [
            "quickdraw  sample_data\n"
          ],
          "name": "stdout"
        }
      ]
    },
    {
      "cell_type": "code",
      "metadata": {
        "id": "mIakytL_BM4F",
        "colab_type": "code",
        "outputId": "1999e11d-148f-4dc5-9498-c579556b0627",
        "colab": {
          "base_uri": "https://localhost:8080/",
          "height": 109
        }
      },
      "source": [
        "!ls quickdraw"
      ],
      "execution_count": 0,
      "outputs": [
        {
          "output_type": "stream",
          "text": [
            "'alarm clock.npy'   bee.npy\t\t cookie.npy\t  lollipop.npy\n",
            " ambulance.npy\t   'birthday cake.npy'\t donut.npy\t 'palm tree.npy'\n",
            " angel.npy\t    brain.npy\t\t eyeglasses.npy   pig.npy\n",
            " ant.npy\t    cactus.npy\t\t face.npy\t  postcard.npy\n",
            " banana.npy\t    cat.npy\t\t fish.npy\t  rainbow.npy\n"
          ],
          "name": "stdout"
        }
      ]
    },
    {
      "cell_type": "code",
      "metadata": {
        "id": "TMVqhBZSBSNS",
        "colab_type": "code",
        "colab": {}
      },
      "source": [
        "%matplotlib inline\n",
        "import matplotlib.pyplot as plt\n",
        "import matplotlib.cm as cm\n",
        "\n",
        "import numpy as np\n",
        "\n",
        "from glob import glob\n",
        "import ntpath\n",
        "\n",
        "from sklearn.manifold import TSNE\n",
        "from sklearn.decomposition import PCA\n",
        "\n",
        "import tensorflow as tf\n",
        "\n",
        "from tensorflow.keras.layers import Input, Dense, Conv2D, BatchNormalization\n",
        "from tensorflow.keras.layers import ReLU, Add, MaxPool2D, GlobalAvgPool2D\n",
        "from tensorflow.keras.layers import Concatenate, AvgPool2D, Dropout, Flatten\n",
        "from tensorflow.keras.models import Model"
      ],
      "execution_count": 0,
      "outputs": []
    },
    {
      "cell_type": "markdown",
      "metadata": {
        "id": "aavcc6IMPH-s",
        "colab_type": "text"
      },
      "source": [
        "## Data Pipeline"
      ]
    },
    {
      "cell_type": "code",
      "metadata": {
        "id": "3EKwOJQpDInp",
        "colab_type": "code",
        "colab": {}
      },
      "source": [
        "file_names = glob('./quickdraw/*.npy')"
      ],
      "execution_count": 0,
      "outputs": []
    },
    {
      "cell_type": "code",
      "metadata": {
        "id": "Z3a51eudDJOZ",
        "colab_type": "code",
        "colab": {}
      },
      "source": [
        "class_names = []\n",
        "\n",
        "for file in file_names:\n",
        "  name = ntpath.basename(file)\n",
        "  class_names.append(name[:-4])"
      ],
      "execution_count": 0,
      "outputs": []
    },
    {
      "cell_type": "code",
      "metadata": {
        "id": "ThmHKTaPER5L",
        "colab_type": "code",
        "colab": {}
      },
      "source": [
        "x_data =np.array([])\n",
        "y_labels =np.array([])\n",
        "\n",
        "for i, filename in enumerate(file_names):\n",
        "  labels = [i for j in range(50000)]\n",
        "  arr = np.load(filename)\n",
        "  arr = arr[:50000]\n",
        "  if len(x_data) == 0:\n",
        "    x_data = arr\n",
        "    y_labels = np.asarray(labels)\n",
        "  else:\n",
        "    x_data = np.concatenate((x_data, arr))\n",
        "    y_labels = np.concatenate((y_labels, labels))"
      ],
      "execution_count": 0,
      "outputs": []
    },
    {
      "cell_type": "code",
      "metadata": {
        "id": "ozgrZjubqddD",
        "colab_type": "code",
        "colab": {}
      },
      "source": [
        "n_classes = len(class_names)\n",
        "\n",
        "# Convert Class Scalars to binary One Hot Encoded vectors\n",
        "y_labels = tf.keras.utils.to_categorical(y_labels, n_classes)"
      ],
      "execution_count": 0,
      "outputs": []
    },
    {
      "cell_type": "code",
      "metadata": {
        "id": "ft71G4qOTwCq",
        "colab_type": "code",
        "outputId": "d65c9319-8719-4fb0-ad99-97e135e09016",
        "colab": {
          "base_uri": "https://localhost:8080/",
          "height": 35
        }
      },
      "source": [
        "y_labels.shape"
      ],
      "execution_count": 0,
      "outputs": [
        {
          "output_type": "execute_result",
          "data": {
            "text/plain": [
              "(1000000, 20)"
            ]
          },
          "metadata": {
            "tags": []
          },
          "execution_count": 9
        }
      ]
    },
    {
      "cell_type": "code",
      "metadata": {
        "id": "2pH9XkBwqXKK",
        "colab_type": "code",
        "outputId": "b3d86998-595e-49df-c5bc-e62913214167",
        "colab": {
          "base_uri": "https://localhost:8080/",
          "height": 35
        }
      },
      "source": [
        "x_data.shape"
      ],
      "execution_count": 0,
      "outputs": [
        {
          "output_type": "execute_result",
          "data": {
            "text/plain": [
              "(1000000, 784)"
            ]
          },
          "metadata": {
            "tags": []
          },
          "execution_count": 10
        }
      ]
    },
    {
      "cell_type": "code",
      "metadata": {
        "id": "cx5xHrncWUSv",
        "colab_type": "code",
        "colab": {}
      },
      "source": [
        "x_data_reshaped = np.array(x_data).reshape((1000000, 28, 28, 1))"
      ],
      "execution_count": 0,
      "outputs": []
    },
    {
      "cell_type": "code",
      "metadata": {
        "id": "9NJsGYBe7Kq6",
        "colab_type": "code",
        "outputId": "0f733ef9-5f15-4764-9274-b6c8d7098e15",
        "colab": {
          "base_uri": "https://localhost:8080/",
          "height": 35
        }
      },
      "source": [
        "x_data_reshaped.shape"
      ],
      "execution_count": 0,
      "outputs": [
        {
          "output_type": "execute_result",
          "data": {
            "text/plain": [
              "(1000000, 28, 28, 1)"
            ]
          },
          "metadata": {
            "tags": []
          },
          "execution_count": 12
        }
      ]
    },
    {
      "cell_type": "code",
      "metadata": {
        "id": "F6zbALL3m5RI",
        "colab_type": "code",
        "colab": {}
      },
      "source": [
        "#Normalize the data\n",
        "x_data_reshaped = np.divide(x_data_reshaped,255)"
      ],
      "execution_count": 0,
      "outputs": []
    },
    {
      "cell_type": "code",
      "metadata": {
        "id": "LU9USjb5G0ed",
        "colab_type": "code",
        "outputId": "ba2ee2e7-25d4-4923-f3c2-c7835596892c",
        "colab": {
          "base_uri": "https://localhost:8080/",
          "height": 35
        }
      },
      "source": [
        "# Shuffle\n",
        "from sklearn.utils import shuffle\n",
        "\n",
        "x_data_reshaped, y_labels = shuffle(x_data_reshaped, y_labels, random_state=40)\n",
        "\n",
        "\n",
        "# Train test split\n",
        "from sklearn.model_selection import train_test_split\n",
        "\n",
        "split = 0.9\n",
        "\n",
        "x_train, x_test, y_train, y_test = train_test_split(x_data_reshaped, y_labels, test_size=0.1, random_state=42)\n",
        "\n",
        "\n",
        "x_train.shape, y_train.shape"
      ],
      "execution_count": 0,
      "outputs": [
        {
          "output_type": "execute_result",
          "data": {
            "text/plain": [
              "((900000, 28, 28, 1), (900000, 20))"
            ]
          },
          "metadata": {
            "tags": []
          },
          "execution_count": 14
        }
      ]
    },
    {
      "cell_type": "markdown",
      "metadata": {
        "id": "YoeGkUwoWa5Z",
        "colab_type": "text"
      },
      "source": [
        "## Model"
      ]
    },
    {
      "cell_type": "markdown",
      "metadata": {
        "id": "tEK4EaCRazZm",
        "colab_type": "text"
      },
      "source": [
        "Inception Cell Duplicate"
      ]
    },
    {
      "cell_type": "code",
      "metadata": {
        "id": "r-cPB-NmIF8c",
        "colab_type": "code",
        "colab": {}
      },
      "source": [
        "def inception_cell(x, filters, block_name):\n",
        "    # this is the. left most path with 1x1 convs\n",
        "    branch1x1 = Conv2D(filters=filters[0], kernel_size=1, activation='relu',name=block_name+'_branch_1x1')(x)\n",
        "\n",
        "    # this is the 3x3 path\n",
        "    branch3x3 = Conv2D(filters=filters[1], kernel_size=1, activation='relu',name=block_name+'_3x3_branch_1x1')(x)\n",
        "    branch3x3 = Conv2D(filters=filters[2], kernel_size=3, padding='same', activation='relu',name=block_name+'_3x3_branch_3x3')(branch3x3)\n",
        "\n",
        "    # this is the 5x5 path\n",
        "    branch5x5 = Conv2D(filters=filters[3], kernel_size=1, activation='relu',name=block_name+'_5x5_branch_1x1')(x)\n",
        "    branch5x5 = Conv2D(filters=filters[4], kernel_size=5, padding='same', activation='relu',name=block_name+'_5x5_branch_5x5')(branch5x5)\n",
        "\n",
        "    # this is the pooling branch\n",
        "    pooling_branch = MaxPool2D(pool_size=3, strides=1, padding='same',name=block_name+'_pooling_branch_')(x)\n",
        "    pooling_branch = Conv2D(filters=filters[5], kernel_size=1, activation='relu',name=block_name+'_pooling_branch_1x1')(pooling_branch)\n",
        "\n",
        "    # the filters get concatenated\n",
        "    output = Concatenate()([branch1x1, branch3x3, branch5x5, pooling_branch])\n",
        "    return output"
      ],
      "execution_count": 0,
      "outputs": []
    },
    {
      "cell_type": "markdown",
      "metadata": {
        "id": "CnzjkShIurEr",
        "colab_type": "text"
      },
      "source": [
        "#  Inception Cell Model "
      ]
    },
    {
      "cell_type": "code",
      "metadata": {
        "id": "9U9ctJCkhi9M",
        "colab_type": "code",
        "colab": {}
      },
      "source": [
        "input = Input(shape=(28, 28, 1))\n",
        "x = Conv2D(filters=64, kernel_size=7, strides=1, padding='same', activation='relu',name='1a')(input)\n",
        "x = MaxPool2D(pool_size=3, strides=1, padding='same',name='1-pooling')(x)\n",
        "x = BatchNormalization()(x)\n",
        "\n",
        "x = inception_cell(x, filters=[64, 96, 128, 16, 32, 32],block_name='3a')\n",
        "x = inception_cell(x, filters=[128, 128, 192, 32, 96, 64],block_name='3b')\n",
        "x = MaxPool2D(pool_size=3, strides=2, padding='same')(x)\n",
        "x = BatchNormalization()(x)\n",
        "\n",
        "# x = inception_cell(x, filters=[192, 96, 208, 16, 48, 64],block_name='4a')\n",
        "# x = inception_cell(x, filters=[160, 112, 224, 24, 64, 64],block_name='4b')\n",
        "# x = inception_cell(x, filters=[128, 128, 256, 24, 64, 64],block_name='4c')\n",
        "# x = inception_cell(x, filters=[112, 144, 288, 32, 64, 64],block_name='4d')\n",
        "# x = inception_cell(x, filters=[256, 160, 320, 32, 128, 128],block_name='4e')\n",
        "# x = MaxPool2D(pool_size=3, strides=2, padding='same')(x)\n",
        "# x = BatchNormalization()(x)\n",
        "\n",
        "\n",
        "x = inception_cell(x, filters=[256, 160, 320, 32, 128, 128],block_name='5a')\n",
        "x = inception_cell(x, filters=[384, 192, 384, 48, 128, 128],block_name='5b')\n",
        "x = AvgPool2D(pool_size=7, strides=1,name='AvePooling')(x)\n",
        "x = Dropout(rate=0.4,name='Dropout')(x)\n",
        "\n",
        "x = Flatten()(x)\n",
        "output = Dense(units=20, activation='softmax')(x)\n",
        "\n",
        "model = Model(inputs=input, outputs=output,name='GoogLeNet-InceptionV1')"
      ],
      "execution_count": 0,
      "outputs": []
    },
    {
      "cell_type": "code",
      "metadata": {
        "id": "1ii-6la9hqy5",
        "colab_type": "code",
        "outputId": "d6bdea95-a431-40e5-e14f-db2578b46e14",
        "colab": {
          "base_uri": "https://localhost:8080/",
          "height": 1000
        }
      },
      "source": [
        "model.summary()"
      ],
      "execution_count": 0,
      "outputs": [
        {
          "output_type": "stream",
          "text": [
            "Model: \"GoogLeNet-InceptionV1\"\n",
            "__________________________________________________________________________________________________\n",
            "Layer (type)                    Output Shape         Param #     Connected to                     \n",
            "==================================================================================================\n",
            "input_1 (InputLayer)            [(None, 28, 28, 1)]  0                                            \n",
            "__________________________________________________________________________________________________\n",
            "1a (Conv2D)                     (None, 28, 28, 64)   3200        input_1[0][0]                    \n",
            "__________________________________________________________________________________________________\n",
            "1-pooling (MaxPooling2D)        (None, 28, 28, 64)   0           1a[0][0]                         \n",
            "__________________________________________________________________________________________________\n",
            "batch_normalization (BatchNorma (None, 28, 28, 64)   256         1-pooling[0][0]                  \n",
            "__________________________________________________________________________________________________\n",
            "3a_3x3_branch_1x1 (Conv2D)      (None, 28, 28, 96)   6240        batch_normalization[0][0]        \n",
            "__________________________________________________________________________________________________\n",
            "3a_5x5_branch_1x1 (Conv2D)      (None, 28, 28, 16)   1040        batch_normalization[0][0]        \n",
            "__________________________________________________________________________________________________\n",
            "3a_pooling_branch_ (MaxPooling2 (None, 28, 28, 64)   0           batch_normalization[0][0]        \n",
            "__________________________________________________________________________________________________\n",
            "3a_branch_1x1 (Conv2D)          (None, 28, 28, 64)   4160        batch_normalization[0][0]        \n",
            "__________________________________________________________________________________________________\n",
            "3a_3x3_branch_3x3 (Conv2D)      (None, 28, 28, 128)  110720      3a_3x3_branch_1x1[0][0]          \n",
            "__________________________________________________________________________________________________\n",
            "3a_5x5_branch_5x5 (Conv2D)      (None, 28, 28, 32)   12832       3a_5x5_branch_1x1[0][0]          \n",
            "__________________________________________________________________________________________________\n",
            "3a_pooling_branch_1x1 (Conv2D)  (None, 28, 28, 32)   2080        3a_pooling_branch_[0][0]         \n",
            "__________________________________________________________________________________________________\n",
            "concatenate (Concatenate)       (None, 28, 28, 256)  0           3a_branch_1x1[0][0]              \n",
            "                                                                 3a_3x3_branch_3x3[0][0]          \n",
            "                                                                 3a_5x5_branch_5x5[0][0]          \n",
            "                                                                 3a_pooling_branch_1x1[0][0]      \n",
            "__________________________________________________________________________________________________\n",
            "3b_3x3_branch_1x1 (Conv2D)      (None, 28, 28, 128)  32896       concatenate[0][0]                \n",
            "__________________________________________________________________________________________________\n",
            "3b_5x5_branch_1x1 (Conv2D)      (None, 28, 28, 32)   8224        concatenate[0][0]                \n",
            "__________________________________________________________________________________________________\n",
            "3b_pooling_branch_ (MaxPooling2 (None, 28, 28, 256)  0           concatenate[0][0]                \n",
            "__________________________________________________________________________________________________\n",
            "3b_branch_1x1 (Conv2D)          (None, 28, 28, 128)  32896       concatenate[0][0]                \n",
            "__________________________________________________________________________________________________\n",
            "3b_3x3_branch_3x3 (Conv2D)      (None, 28, 28, 192)  221376      3b_3x3_branch_1x1[0][0]          \n",
            "__________________________________________________________________________________________________\n",
            "3b_5x5_branch_5x5 (Conv2D)      (None, 28, 28, 96)   76896       3b_5x5_branch_1x1[0][0]          \n",
            "__________________________________________________________________________________________________\n",
            "3b_pooling_branch_1x1 (Conv2D)  (None, 28, 28, 64)   16448       3b_pooling_branch_[0][0]         \n",
            "__________________________________________________________________________________________________\n",
            "concatenate_1 (Concatenate)     (None, 28, 28, 480)  0           3b_branch_1x1[0][0]              \n",
            "                                                                 3b_3x3_branch_3x3[0][0]          \n",
            "                                                                 3b_5x5_branch_5x5[0][0]          \n",
            "                                                                 3b_pooling_branch_1x1[0][0]      \n",
            "__________________________________________________________________________________________________\n",
            "max_pooling2d (MaxPooling2D)    (None, 14, 14, 480)  0           concatenate_1[0][0]              \n",
            "__________________________________________________________________________________________________\n",
            "batch_normalization_1 (BatchNor (None, 14, 14, 480)  1920        max_pooling2d[0][0]              \n",
            "__________________________________________________________________________________________________\n",
            "5a_3x3_branch_1x1 (Conv2D)      (None, 14, 14, 160)  76960       batch_normalization_1[0][0]      \n",
            "__________________________________________________________________________________________________\n",
            "5a_5x5_branch_1x1 (Conv2D)      (None, 14, 14, 32)   15392       batch_normalization_1[0][0]      \n",
            "__________________________________________________________________________________________________\n",
            "5a_pooling_branch_ (MaxPooling2 (None, 14, 14, 480)  0           batch_normalization_1[0][0]      \n",
            "__________________________________________________________________________________________________\n",
            "5a_branch_1x1 (Conv2D)          (None, 14, 14, 256)  123136      batch_normalization_1[0][0]      \n",
            "__________________________________________________________________________________________________\n",
            "5a_3x3_branch_3x3 (Conv2D)      (None, 14, 14, 320)  461120      5a_3x3_branch_1x1[0][0]          \n",
            "__________________________________________________________________________________________________\n",
            "5a_5x5_branch_5x5 (Conv2D)      (None, 14, 14, 128)  102528      5a_5x5_branch_1x1[0][0]          \n",
            "__________________________________________________________________________________________________\n",
            "5a_pooling_branch_1x1 (Conv2D)  (None, 14, 14, 128)  61568       5a_pooling_branch_[0][0]         \n",
            "__________________________________________________________________________________________________\n",
            "concatenate_2 (Concatenate)     (None, 14, 14, 832)  0           5a_branch_1x1[0][0]              \n",
            "                                                                 5a_3x3_branch_3x3[0][0]          \n",
            "                                                                 5a_5x5_branch_5x5[0][0]          \n",
            "                                                                 5a_pooling_branch_1x1[0][0]      \n",
            "__________________________________________________________________________________________________\n",
            "5b_3x3_branch_1x1 (Conv2D)      (None, 14, 14, 192)  159936      concatenate_2[0][0]              \n",
            "__________________________________________________________________________________________________\n",
            "5b_5x5_branch_1x1 (Conv2D)      (None, 14, 14, 48)   39984       concatenate_2[0][0]              \n",
            "__________________________________________________________________________________________________\n",
            "5b_pooling_branch_ (MaxPooling2 (None, 14, 14, 832)  0           concatenate_2[0][0]              \n",
            "__________________________________________________________________________________________________\n",
            "5b_branch_1x1 (Conv2D)          (None, 14, 14, 384)  319872      concatenate_2[0][0]              \n",
            "__________________________________________________________________________________________________\n",
            "5b_3x3_branch_3x3 (Conv2D)      (None, 14, 14, 384)  663936      5b_3x3_branch_1x1[0][0]          \n",
            "__________________________________________________________________________________________________\n",
            "5b_5x5_branch_5x5 (Conv2D)      (None, 14, 14, 128)  153728      5b_5x5_branch_1x1[0][0]          \n",
            "__________________________________________________________________________________________________\n",
            "5b_pooling_branch_1x1 (Conv2D)  (None, 14, 14, 128)  106624      5b_pooling_branch_[0][0]         \n",
            "__________________________________________________________________________________________________\n",
            "concatenate_3 (Concatenate)     (None, 14, 14, 1024) 0           5b_branch_1x1[0][0]              \n",
            "                                                                 5b_3x3_branch_3x3[0][0]          \n",
            "                                                                 5b_5x5_branch_5x5[0][0]          \n",
            "                                                                 5b_pooling_branch_1x1[0][0]      \n",
            "__________________________________________________________________________________________________\n",
            "AvePooling (AveragePooling2D)   (None, 8, 8, 1024)   0           concatenate_3[0][0]              \n",
            "__________________________________________________________________________________________________\n",
            "Dropout (Dropout)               (None, 8, 8, 1024)   0           AvePooling[0][0]                 \n",
            "__________________________________________________________________________________________________\n",
            "flatten (Flatten)               (None, 65536)        0           Dropout[0][0]                    \n",
            "__________________________________________________________________________________________________\n",
            "dense (Dense)                   (None, 20)           1310740     flatten[0][0]                    \n",
            "==================================================================================================\n",
            "Total params: 4,126,708\n",
            "Trainable params: 4,125,620\n",
            "Non-trainable params: 1,088\n",
            "__________________________________________________________________________________________________\n"
          ],
          "name": "stdout"
        }
      ]
    },
    {
      "cell_type": "markdown",
      "metadata": {
        "id": "ul6nwhThWeyp",
        "colab_type": "text"
      },
      "source": [
        "## Train"
      ]
    },
    {
      "cell_type": "code",
      "metadata": {
        "id": "3czI-DTBkkJj",
        "colab_type": "code",
        "colab": {}
      },
      "source": [
        "batch_size = 128\n",
        "epochs = 5\n",
        "learning_rate = 0.001"
      ],
      "execution_count": 0,
      "outputs": []
    },
    {
      "cell_type": "code",
      "metadata": {
        "id": "WkDRjYBtkYPz",
        "colab_type": "code",
        "colab": {}
      },
      "source": [
        "#optimizer\n",
        "opt = tf.keras.optimizers.Adam(lr = learning_rate)\n",
        "\n",
        "model.compile(loss= tf.keras.losses.categorical_crossentropy,\n",
        "              optimizer= opt,\n",
        "              metrics=['accuracy'])"
      ],
      "execution_count": 0,
      "outputs": []
    },
    {
      "cell_type": "code",
      "metadata": {
        "id": "iLzgdmFmIGgx",
        "colab_type": "code",
        "outputId": "fcf4a579-09cf-40a4-fadd-5739be91b0e9",
        "colab": {
          "base_uri": "https://localhost:8080/",
          "height": 201
        }
      },
      "source": [
        "hist = model.fit(x_train, y_train,\n",
        "          batch_size=batch_size,\n",
        "          epochs=epochs,\n",
        "          verbose=1,\n",
        "          callbacks = None,\n",
        "          validation_data=(x_test, y_test))"
      ],
      "execution_count": 0,
      "outputs": [
        {
          "output_type": "stream",
          "text": [
            "Epoch 1/5\n",
            "7032/7032 [==============================] - 933s 133ms/step - loss: 0.3515 - accuracy: 0.9030 - val_loss: 0.2392 - val_accuracy: 0.9342\n",
            "Epoch 2/5\n",
            "7032/7032 [==============================] - 930s 132ms/step - loss: 0.2210 - accuracy: 0.9393 - val_loss: 0.2057 - val_accuracy: 0.9437\n",
            "Epoch 3/5\n",
            "7032/7032 [==============================] - 927s 132ms/step - loss: 0.1967 - accuracy: 0.9460 - val_loss: 0.1949 - val_accuracy: 0.9472\n",
            "Epoch 4/5\n",
            "7032/7032 [==============================] - 926s 132ms/step - loss: 0.1801 - accuracy: 0.9501 - val_loss: 0.1904 - val_accuracy: 0.9477\n",
            "Epoch 5/5\n",
            "7032/7032 [==============================] - 931s 132ms/step - loss: 0.1680 - accuracy: 0.9533 - val_loss: 0.1907 - val_accuracy: 0.9489\n"
          ],
          "name": "stdout"
        }
      ]
    },
    {
      "cell_type": "markdown",
      "metadata": {
        "id": "7WE8zDlbpWK0",
        "colab_type": "text"
      },
      "source": [
        "## Evaluate "
      ]
    },
    {
      "cell_type": "code",
      "metadata": {
        "id": "bM-yN-NvxFhw",
        "colab_type": "code",
        "colab": {}
      },
      "source": [
        "def plot_train(hist):\n",
        "    h = hist.history\n",
        "    if 'accuracy' in h:\n",
        "        meas='accuracy'\n",
        "        loc='lower right'\n",
        "    else:\n",
        "        meas='loss'\n",
        "        loc='upper right'\n",
        "    plt.plot(hist.history[meas])\n",
        "    plt.plot(hist.history['val_'+meas])\n",
        "    plt.title('model '+meas)\n",
        "    plt.ylabel(meas)\n",
        "    plt.xlabel('epoch')\n",
        "    plt.legend(['train', 'validation'], loc=loc)"
      ],
      "execution_count": 0,
      "outputs": []
    },
    {
      "cell_type": "code",
      "metadata": {
        "id": "Y_vFotcFw66n",
        "colab_type": "code",
        "outputId": "1079616d-429d-4eca-b1eb-f357f3342a8e",
        "colab": {
          "base_uri": "https://localhost:8080/",
          "height": 295
        }
      },
      "source": [
        "plot_train(hist)"
      ],
      "execution_count": 0,
      "outputs": [
        {
          "output_type": "display_data",
          "data": {
            "image/png": "[encoded data removed]",
            "text/plain": [
              "<Figure size 432x288 with 1 Axes>"
            ]
          },
          "metadata": {
            "tags": [],
            "needs_background": "light"
          }
        }
      ]
    },
    {
      "cell_type": "code",
      "metadata": {
        "id": "FNTlIrgSpXei",
        "colab_type": "code",
        "outputId": "56f470e8-7465-4070-939d-43c303a79145",
        "colab": {
          "base_uri": "https://localhost:8080/",
          "height": 54
        }
      },
      "source": [
        "model.evaluate(x=x_test, y=y_test)"
      ],
      "execution_count": 0,
      "outputs": [
        {
          "output_type": "stream",
          "text": [
            "3125/3125 [==============================] - 39s 12ms/step - loss: 0.1908 - accuracy: 0.9489\n"
          ],
          "name": "stdout"
        },
        {
          "output_type": "execute_result",
          "data": {
            "text/plain": [
              "[0.19079403579235077, 0.9488700032234192]"
            ]
          },
          "metadata": {
            "tags": []
          },
          "execution_count": 24
        }
      ]
    },
    {
      "cell_type": "code",
      "metadata": {
        "id": "dlDJV42FuOtr",
        "colab_type": "code",
        "outputId": "20d49116-6932-4ce5-b53c-6b04f085d4d7",
        "colab": {
          "base_uri": "https://localhost:8080/",
          "height": 35
        }
      },
      "source": [
        "print(model.metrics_names)"
      ],
      "execution_count": 0,
      "outputs": [
        {
          "output_type": "stream",
          "text": [
            "['loss', 'accuracy']\n"
          ],
          "name": "stdout"
        }
      ]
    }
  ]
}